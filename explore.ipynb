{
 "cells": [
  {
   "cell_type": "markdown",
   "metadata": {},
   "source": [
    "### Discovery Notebook"
   ]
  },
  {
   "cell_type": "code",
   "execution_count": 48,
   "metadata": {},
   "outputs": [],
   "source": [
    "# Imports and config\n",
    "import pandas as pd\n",
    "from sklearn.model_selection import train_test_split\n",
    "import zipfile"
   ]
  },
  {
   "cell_type": "code",
   "execution_count": 49,
   "metadata": {},
   "outputs": [
    {
     "name": "stderr",
     "output_type": "stream",
     "text": [
      "2025-03-25 15:18:56,442 - INFO - Environment variables loaded\n",
      "2025-03-25 15:18:56,444 - INFO - Bucket name: dtaphnx\n",
      "2025-03-25 15:18:56,444 - INFO - Access key present: Yes\n",
      "2025-03-25 15:18:56,445 - INFO - Secret key present: Yes\n",
      "2025-03-25 15:18:56,707 - INFO - Connected to S3. Found 2 buckets\n"
     ]
    }
   ],
   "source": [
    "# Add logging for AWS\n",
    "from dotenv import load_dotenv\n",
    "import os\n",
    "import boto3\n",
    "import logging\n",
    "\n",
    "# Configure logging\n",
    "logging.basicConfig(\n",
    "    level=logging.INFO,\n",
    "    format='%(asctime)s - %(levelname)s - %(message)s'\n",
    ")\n",
    "\n",
    "# Load environment variables and verify\n",
    "load_dotenv()\n",
    "logging.info(\"Environment variables loaded\")\n",
    "\n",
    "# Verify AWS credentials are present\n",
    "AWS_BUCKET_NAME = os.getenv('AWS_BUCKET_NAME')\n",
    "AWS_ACCESS_KEY = os.getenv('AWS_ACCESS_KEY_ID')\n",
    "AWS_SECRET_KEY = os.getenv('AWS_SECRET_ACCESS_KEY')\n",
    "\n",
    "# Log credentials (mask sensitive parts)\n",
    "logging.info(f\"Bucket name: {AWS_BUCKET_NAME}\")\n",
    "logging.info(f\"Access key present: {'Yes' if AWS_ACCESS_KEY else 'No'}\")\n",
    "logging.info(f\"Secret key present: {'Yes' if AWS_SECRET_KEY else 'No'}\")\n",
    "\n",
    "# Verify S3 connection\n",
    "try:\n",
    "    s3 = boto3.client('s3', \n",
    "                      aws_access_key_id=AWS_ACCESS_KEY,\n",
    "                      aws_secret_access_key=AWS_SECRET_KEY)\n",
    "    \n",
    "    # Test the connection\n",
    "    response = s3.list_buckets()\n",
    "    logging.info(f\"Connected to S3. Found {len(response['Buckets'])} buckets\")\n",
    "except Exception as e:\n",
    "    logging.error(f\"Failed to connect to S3: {str(e)}\")"
   ]
  },
  {
   "cell_type": "code",
   "execution_count": 50,
   "metadata": {},
   "outputs": [],
   "source": [
    "# Imports for image processing\n",
    "import os\n",
    "from pathlib import Path\n",
    "import shutil\n",
    "import tqdm\n",
    "import boto3\n",
    "from dotenv import load_dotenv\n",
    "import s3fs\n",
    "from PIL import Image\n",
    "import io\n",
    "\n",
    "# Load environment variables\n",
    "load_dotenv()\n",
    "\n",
    "# Load configuration from .env\n",
    "AWS_BUCKET_NAME = os.getenv('AWS_BUCKET_NAME')\n",
    "\n",
    "# Create a connection to S3\n",
    "fs = s3fs.S3FileSystem()\n",
    "\n",
    "# List images in the bucket\n",
    "directory = f's3://{AWS_BUCKET_NAME}'\n",
    "filenames = fs.ls(directory)"
   ]
  },
  {
   "cell_type": "code",
   "execution_count": 51,
   "metadata": {},
   "outputs": [],
   "source": [
    "# Error handling for retrieving images\n",
    "\n",
    "try:\n",
    "    BUCKET_NAME = os.getenv('AWS_BUCKET_NAME')\n",
    "    if not BUCKET_NAME:\n",
    "        raise ValueError(\"AWS_BUCKET_NAME must be set in environment\")\n",
    "    \n",
    "    # Your S3 operations here\n",
    "    \n",
    "except Exception as e:\n",
    "    print(f\"Error accessing S3 bucket: {str(e)}\")"
   ]
  },
  {
   "cell_type": "code",
   "execution_count": 52,
   "metadata": {},
   "outputs": [
    {
     "data": {
      "text/plain": [
       "[None]"
      ]
     },
     "execution_count": 52,
     "metadata": {},
     "output_type": "execute_result"
    }
   ],
   "source": [
    "# Download compressed file from S3\n",
    "fs.get(f'{AWS_BUCKET_NAME}/300.zip', './data/images/compressed/300.zip')\n"
   ]
  },
  {
   "cell_type": "code",
   "execution_count": 53,
   "metadata": {},
   "outputs": [],
   "source": [
    "# Function to extract the compressed images file\n",
    "def extract_zip(file_path, output_path):\n",
    "    with zipfile.ZipFile(file_path, 'r') as zip_ref:\n",
    "        zip_ref.extractall(output_path)"
   ]
  },
  {
   "cell_type": "code",
   "execution_count": 54,
   "metadata": {},
   "outputs": [],
   "source": [
    "# Function to extract the images\n",
    "extract_zip('./data/images/compressed/300.zip', './data/images/raw')"
   ]
  },
  {
   "cell_type": "code",
   "execution_count": 55,
   "metadata": {},
   "outputs": [],
   "source": [
    "\n",
    "# with fs.open(filenames[0], 'rb') as f:\n",
    "    #img = Image.open(io.BytesIO(f.read()))"
   ]
  },
  {
   "cell_type": "code",
   "execution_count": 56,
   "metadata": {},
   "outputs": [],
   "source": [
    "# Load the CSV for image metadata\n",
    "# data = pd.read_csv('./data/table.csv')"
   ]
  },
  {
   "cell_type": "code",
   "execution_count": 57,
   "metadata": {},
   "outputs": [],
   "source": [
    "# data.head()"
   ]
  },
  {
   "cell_type": "code",
   "execution_count": 58,
   "metadata": {},
   "outputs": [],
   "source": [
    "# data.shape"
   ]
  }
 ],
 "metadata": {
  "kernelspec": {
   "display_name": "dev",
   "language": "python",
   "name": "python3"
  },
  "language_info": {
   "codemirror_mode": {
    "name": "ipython",
    "version": 3
   },
   "file_extension": ".py",
   "mimetype": "text/x-python",
   "name": "python",
   "nbconvert_exporter": "python",
   "pygments_lexer": "ipython3",
   "version": "3.10.14"
  }
 },
 "nbformat": 4,
 "nbformat_minor": 2
}
